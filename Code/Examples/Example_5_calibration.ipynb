{
 "cells": [
  {
   "cell_type": "markdown",
   "metadata": {},
   "source": [
    "# Example 5: Calibration of the Number of Periods for Convergence\n",
    "\n",
    "The estimation of the growth factors assumes a given number of periods under which the model should converge. This variable is called 'steps'. This example shows how to choose an optimal 'steps', such that the volatility of the simulated indicators matches the empirical ones."
   ]
  },
  {
   "cell_type": "markdown",
   "metadata": {},
   "source": [
    "## Import the necessary libraries"
   ]
  },
  {
   "cell_type": "code",
   "execution_count": 1,
   "metadata": {},
   "outputs": [],
   "source": [
    "import warnings\n",
    "warnings.filterwarnings('ignore')\n",
    "from matplotlib import pyplot as plt\n",
    "import pandas as pd\n",
    "import numpy as np\n",
    "import scipy.stats as st\n",
    "import ppi\n",
    "import calibration as cal"
   ]
  },
  {
   "cell_type": "markdown",
   "metadata": {},
   "source": [
    "## Load data"
   ]
  },
  {
   "cell_type": "code",
   "execution_count": 2,
   "metadata": {},
   "outputs": [],
   "source": [
    "data = pd.read_csv('final_sample_normalized.csv', sep='\\t', header=0, low_memory=False, encoding='utf-16') # indicators\n",
    "A = np.loadtxt('network.csv') # network\n",
    "phi, tau = np.loadtxt('governance_params.csv') # governance parameters"
   ]
  },
  {
   "cell_type": "markdown",
   "metadata": {},
   "source": [
    "## Prepare data for PPI"
   ]
  },
  {
   "cell_type": "code",
   "execution_count": 3,
   "metadata": {},
   "outputs": [],
   "source": [
    "series = data[[str(year) for year in range(2006, 2017)]].values # extract the time series from the data\n",
    "I0, T = ppi.get_targets(series) # use the helper function get_targets() to transform the final values into targets\n",
    "R = data['instrumental'].values # extract the variable indicating which indicators are instrumental\n",
    "colors = dict(zip(data.index, data.goalColor)) # build a dictionary mapping each indicator to its SDG color"
   ]
  },
  {
   "cell_type": "markdown",
   "metadata": {},
   "source": [
    "## Calculate empirical volatility"
   ]
  },
  {
   "cell_type": "code",
   "execution_count": 4,
   "metadata": {},
   "outputs": [],
   "source": [
    "chs_emp = (series[:, 1::]-series[:, 0:-1]).flatten()\n",
    "chs_emp[chs_emp<0] = 0\n",
    "vola_emp = chs_emp.std()    "
   ]
  },
  {
   "cell_type": "markdown",
   "metadata": {},
   "source": [
    "## Estimate growth factors for different levels of 'steps'\n",
    "\n",
    "The function 'find_steps' from the 'calibration.py' script tries different values for 'steps' until it finds one that matches the empirical volatility of the development indicators. The user shuold provide the initial level of 'steps' and, then, the function estimates the corresponding growth factors and the simulated volatility. If the synthetic volatility is larger than the empirical one, then the function increases 'steps' by one and repeats the procedure. This process continues until the function has fuond a 'steps' that yields a lower volatility than the empirical one.\n",
    "\n",
    "Similar to the previous example, this illustration assumes large error thresholds and few Monte Carlo simulations in order to reduce the computational time."
   ]
  },
  {
   "cell_type": "code",
   "execution_count": 5,
   "metadata": {},
   "outputs": [
    {
     "name": "stdout",
     "output_type": "stream",
     "text": [
      "Number of ticks to convergence: 20\n",
      "Running iteration 1 ...\n",
      "Obtained a mean average convergence time error of 4.570921985815603\n",
      "Difference in volatility: 0.006825952754305999\n",
      "Number of ticks to convergence: 21\n",
      "Running iteration 1 ...\n",
      "Obtained a mean average convergence time error of 3.9361702127659575\n",
      "Difference in volatility: 0.005823123280013463\n",
      "Number of ticks to convergence: 22\n",
      "Running iteration 1 ...\n",
      "Obtained a mean average convergence time error of 4.301418439716312\n",
      "Difference in volatility: 0.005061726925054123\n",
      "Number of ticks to convergence: 23\n",
      "Running iteration 1 ...\n",
      "Obtained a mean average convergence time error of 3.99290780141844\n",
      "Difference in volatility: 0.006766757635562639\n",
      "Number of ticks to convergence: 24\n",
      "Running iteration 1 ...\n",
      "Obtained a mean average convergence time error of 4.315602836879433\n",
      "Difference in volatility: 0.0032258534022083125\n",
      "Number of ticks to convergence: 25\n",
      "Running iteration 1 ...\n",
      "Obtained a mean average convergence time error of 4.308510638297872\n",
      "Difference in volatility: 0.0032056594380222396\n",
      "Number of ticks to convergence: 26\n",
      "Running iteration 1 ...\n",
      "Obtained a mean average convergence time error of 4.386524822695035\n",
      "Difference in volatility: 0.0029902382159144106\n",
      "Number of ticks to convergence: 27\n",
      "Running iteration 1 ...\n",
      "Obtained a mean average convergence time error of 5.085106382978723\n",
      "Running iteration 2 ...\n",
      "Obtained a mean average convergence time error of 4.358156028368795\n",
      "Difference in volatility: 0.005415195579361546\n",
      "Number of ticks to convergence: 28\n",
      "Running iteration 1 ...\n",
      "Obtained a mean average convergence time error of 4.960992907801418\n",
      "Difference in volatility: 0.0034003570792334945\n",
      "Number of ticks to convergence: 29\n",
      "Running iteration 1 ...\n",
      "Obtained a mean average convergence time error of 5.76595744680851\n",
      "Running iteration 2 ...\n",
      "Obtained a mean average convergence time error of 5.634751773049645\n",
      "Running iteration 3 ...\n",
      "Obtained a mean average convergence time error of 4.872340425531915\n",
      "Difference in volatility: -0.0006853450284338425\n",
      "CPU times: user 3.04 s, sys: 246 ms, total: 3.29 s\n",
      "Wall time: 3min 43s\n"
     ]
    }
   ],
   "source": [
    "%%time\n",
    "# the line above prints the computation time after the estimation has finished\n",
    "steps = 20 # the initial number of periods under which the model should converge\n",
    "sample_size = 2 # the number of Monte Carlo simulations\n",
    "dev_lim = 5 # the convergence error threshold\n",
    "parallel_processes = 4 # the number of processes to be run in parallel\n",
    "\n",
    "rec_alphas, rec_volas, rec_steps = cal.find_steps(I0, T, A=A, R=R, phi=phi, tau=tau, \n",
    "                                       vola_emp=vola_emp, steps=steps, sample_size=sample_size, \n",
    "                                       dev_lim=dev_lim, parallel_processes=parallel_processes)"
   ]
  },
  {
   "cell_type": "markdown",
   "metadata": {},
   "source": [
    "## Plot convergence levels"
   ]
  },
  {
   "cell_type": "code",
   "execution_count": 6,
   "metadata": {},
   "outputs": [
    {
     "data": {
      "image/png": "[encoded data removed]",
      "text/plain": [
       "<Figure size 432x288 with 1 Axes>"
      ]
     },
     "metadata": {},
     "output_type": "display_data"
    }
   ],
   "source": [
    "plt.plot(rec_steps, [vola_emp for step in rec_steps], '--k', linewidth=2)\n",
    "plt.plot(rec_steps, rec_volas, '.k', markersize=15, mec='w',)\n",
    "plt.xlabel('periods for convergence', fontsize=14)\n",
    "plt.ylabel('volatility', fontsize=14)\n",
    "plt.legend(['empirical', 'simulated'], fontsize=12)\n",
    "\n",
    "plt.tight_layout()\n",
    "plt.show()"
   ]
  },
  {
   "cell_type": "markdown",
   "metadata": {},
   "source": [
    "## Choose 'steps' and growth factors\n",
    "\n",
    "Once a collection of 'steps' and growth factors has been obtained, the next step is to choose the ones that match the empirical volatility. Once this the best 'steps' has been chosen, it is recommended that the estimation procedure is repeated for the neighborhood of 'steps', but which a stricter error threshold and more Monte Carlo simulations. This example shows how to choose the best 'steps' and plot its corresponding estimated growth factors. "
   ]
  },
  {
   "cell_type": "code",
   "execution_count": 7,
   "metadata": {},
   "outputs": [
    {
     "data": {
      "image/png": "[encoded data removed]",
      "text/plain": [
       "<Figure size 432x288 with 1 Axes>"
      ]
     },
     "metadata": {},
     "output_type": "display_data"
    },
    {
     "name": "stdout",
     "output_type": "stream",
     "text": [
      "Calibrated 'steps':  29\n"
     ]
    }
   ],
   "source": [
    "alphas_rep = np.loadtxt('alphas.csv') # growth factors\n",
    "\n",
    "arg_min = np.argmin(np.abs(np.array(rec_volas)-vola_emp))\n",
    "best_alphas = rec_alphas[arg_min]\n",
    "best_steps = rec_steps[arg_min]\n",
    "\n",
    "for i in range(len(A)):\n",
    "    plt.plot(alphas_rep[i], best_alphas[i], '.', mfc=colors[i], mec='white', markersize=14)\n",
    "plt.xticks([])\n",
    "plt.xlabel('growth factor from report', fontsize=14)\n",
    "plt.ylabel('estimated growth factor', fontsize=14)\n",
    "\n",
    "plt.tight_layout()\n",
    "plt.show()\n",
    "print(\"Calibrated 'steps': \", best_steps)"
   ]
  },
  {
   "cell_type": "code",
   "execution_count": null,
   "metadata": {},
   "outputs": [],
   "source": []
  }
 ],
 "metadata": {
  "kernelspec": {
   "display_name": "Python 3",
   "language": "python",
   "name": "python3"
  },
  "language_info": {
   "codemirror_mode": {
    "name": "ipython",
    "version": 3
   },
   "file_extension": ".py",
   "mimetype": "text/x-python",
   "name": "python",
   "nbconvert_exporter": "python",
   "pygments_lexer": "ipython3",
   "version": "3.6.8"
  }
 },
 "nbformat": 4,
 "nbformat_minor": 2
}
