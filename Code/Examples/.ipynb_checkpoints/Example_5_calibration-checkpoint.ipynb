{
 "cells": [
  {
   "cell_type": "markdown",
   "metadata": {},
   "source": [
    "# Example 5: Calibration of the Number of Periods for Convergence\n",
    "\n",
    "The estimation of the growth factors assumes a given number of periods under which the model should converge. This variable is called 'steps'. This example shows how to choose an optimal 'steps', such that the volatility of the simulated indicators matches the empirical ones."
   ]
  },
  {
   "cell_type": "markdown",
   "metadata": {},
   "source": [
    "## Import the necessary libraries"
   ]
  },
  {
   "cell_type": "code",
   "execution_count": 1,
   "metadata": {},
   "outputs": [],
   "source": [
    "import warnings\n",
    "warnings.filterwarnings('ignore')\n",
    "from matplotlib import pyplot as plt\n",
    "import pandas as pd\n",
    "import numpy as np\n",
    "import scipy.stats as st\n",
    "import ppi\n",
    "import calibration as cal"
   ]
  },
  {
   "cell_type": "markdown",
   "metadata": {},
   "source": [
    "## Load data"
   ]
  },
  {
   "cell_type": "code",
   "execution_count": 2,
   "metadata": {},
   "outputs": [],
   "source": [
    "data = pd.read_csv('final_sample_normalized.csv', sep='\\t', header=0, low_memory=False, encoding='utf-16') # indicators\n",
    "A = np.loadtxt('network.csv') # network\n",
    "phi, tau = np.loadtxt('governance_params.csv') # governance parameters"
   ]
  },
  {
   "cell_type": "markdown",
   "metadata": {},
   "source": [
    "## Prepare data for PPI"
   ]
  },
  {
   "cell_type": "code",
   "execution_count": 3,
   "metadata": {},
   "outputs": [],
   "source": [
    "series = data[[str(year) for year in range(2006, 2017)]].values # extract the time series from the data\n",
    "I0, T = ppi.get_targets(series) # use the helper function get_targets() to transform the final values into targets\n",
    "R = data['instrumental'].values # extract the variable indicating which indicators are instrumental\n",
    "colors = dict(zip(data.index, data.goalColor)) # build a dictionary mapping each indicator to its SDG color"
   ]
  },
  {
   "cell_type": "markdown",
   "metadata": {},
   "source": [
    "## Calculate empirical volatility"
   ]
  },
  {
   "cell_type": "code",
   "execution_count": 4,
   "metadata": {},
   "outputs": [],
   "source": [
    "chs_emp = (series[:, 1::]-series[:, 0:-1]).flatten()\n",
    "chs_emp[chs_emp<0] = 0\n",
    "vola_emp = chs_emp.std()    "
   ]
  },
  {
   "cell_type": "markdown",
   "metadata": {},
   "source": [
    "## Estimate growth factors for different levels of 'steps'\n",
    "\n",
    "The function 'find_steps' from the 'calibration.py' script tries different values for 'steps' until it finds one that matches the empirical volatility of the development indicators. The user shuold provide the initial level of 'steps' and, then, the function estimates the corresponding growth factors and the simulated volatility. If the synthetic volatility is larger than the empirical one, then the function increases 'steps' by one and repeats the procedure. This process continues until the function has fuond a 'steps' that yields a lower volatility than the empirical one.\n",
    "\n",
    "Similar to the previous example, this illustration assumes large error thresholds and few Monte Carlo simulations in order to reduce the computational time."
   ]
  },
  {
   "cell_type": "code",
   "execution_count": 5,
   "metadata": {},
   "outputs": [
    {
     "name": "stdout",
     "output_type": "stream",
     "text": [
      "Number of ticks to convergence: 20\n",
      "Running iteration 1 ...\n",
      "Obtained a mean average convergence time error of 4.326241134751773\n",
      "Difference in volatility: 0.009288545167196391\n",
      "Number of ticks to convergence: 21\n",
      "Running iteration 1 ...\n",
      "Obtained a mean average convergence time error of 4.283687943262412\n",
      "Difference in volatility: 0.006735634720854443\n",
      "Number of ticks to convergence: 22\n",
      "Running iteration 1 ...\n",
      "Obtained a mean average convergence time error of 4.053191489361702\n",
      "Difference in volatility: 0.007314569754202742\n",
      "Number of ticks to convergence: 23\n",
      "Running iteration 1 ...\n",
      "Obtained a mean average convergence time error of 3.9893617021276597\n",
      "Difference in volatility: 0.006893525419864741\n",
      "Number of ticks to convergence: 24\n",
      "Running iteration 1 ...\n",
      "Obtained a mean average convergence time error of 3.826241134751773\n",
      "Difference in volatility: 0.006654954745079027\n",
      "Number of ticks to convergence: 25\n",
      "Running iteration 1 ...\n",
      "Obtained a mean average convergence time error of 4.684397163120567\n",
      "Difference in volatility: 0.007409800334548772\n",
      "Number of ticks to convergence: 26\n",
      "Running iteration 1 ...\n",
      "Obtained a mean average convergence time error of 4.407801418439717\n",
      "Difference in volatility: 0.002445577328154369\n",
      "Number of ticks to convergence: 27\n",
      "Running iteration 1 ...\n",
      "Obtained a mean average convergence time error of 5.24468085106383\n",
      "Running iteration 2 ...\n",
      "Obtained a mean average convergence time error of 4.7695035460992905\n",
      "Difference in volatility: 0.001997524642885898\n",
      "Number of ticks to convergence: 28\n",
      "Running iteration 1 ...\n",
      "Obtained a mean average convergence time error of 5.273049645390071\n",
      "Running iteration 2 ...\n",
      "Obtained a mean average convergence time error of 4.911347517730497\n",
      "Difference in volatility: 0.001321625528906422\n",
      "Number of ticks to convergence: 29\n",
      "Running iteration 1 ...\n",
      "Obtained a mean average convergence time error of 5.120567375886525\n",
      "Running iteration 2 ...\n",
      "Obtained a mean average convergence time error of 5.400709219858156\n",
      "Running iteration 3 ...\n",
      "Obtained a mean average convergence time error of 5.053191489361702\n",
      "Running iteration 4 ...\n",
      "Obtained a mean average convergence time error of 5.439716312056738\n",
      "Running iteration 5 ...\n",
      "Obtained a mean average convergence time error of 4.8120567375886525\n",
      "Difference in volatility: 0.0030312052207486506\n",
      "Number of ticks to convergence: 30\n",
      "Running iteration 1 ...\n",
      "Obtained a mean average convergence time error of 6.698581560283688\n",
      "Running iteration 2 ...\n",
      "Obtained a mean average convergence time error of 5.290780141843972\n",
      "Running iteration 3 ...\n",
      "Obtained a mean average convergence time error of 5.971631205673759\n",
      "Running iteration 4 ...\n",
      "Obtained a mean average convergence time error of 4.9822695035460995\n",
      "Difference in volatility: 0.0015664295514295663\n",
      "Number of ticks to convergence: 31\n",
      "Running iteration 1 ...\n",
      "Obtained a mean average convergence time error of 6.5\n",
      "Running iteration 2 ...\n",
      "Obtained a mean average convergence time error of 6.120567375886525\n",
      "Running iteration 3 ...\n",
      "Obtained a mean average convergence time error of 5.648936170212766\n",
      "Running iteration 4 ...\n",
      "Obtained a mean average convergence time error of 5.851063829787234\n",
      "Running iteration 5 ...\n",
      "Obtained a mean average convergence time error of 5.166666666666667\n",
      "Running iteration 6 ...\n",
      "Obtained a mean average convergence time error of 5.287234042553192\n",
      "Running iteration 7 ...\n",
      "Obtained a mean average convergence time error of 5.0177304964539005\n",
      "Running iteration 8 ...\n",
      "Obtained a mean average convergence time error of 4.418439716312057\n",
      "Difference in volatility: 0.0008847703446124219\n",
      "Number of ticks to convergence: 32\n",
      "Running iteration 1 ...\n",
      "Obtained a mean average convergence time error of 8.648936170212766\n",
      "Running iteration 2 ...\n",
      "Obtained a mean average convergence time error of 4.99645390070922\n",
      "Difference in volatility: 0.0001008704454856374\n",
      "Number of ticks to convergence: 33\n",
      "Running iteration 1 ...\n",
      "Obtained a mean average convergence time error of 9.173758865248226\n",
      "Running iteration 2 ...\n",
      "Obtained a mean average convergence time error of 5.397163120567376\n",
      "Running iteration 3 ...\n",
      "Obtained a mean average convergence time error of 5.326241134751773\n",
      "Running iteration 4 ...\n",
      "Obtained a mean average convergence time error of 4.9822695035460995\n",
      "Difference in volatility: -0.001598509856454551\n",
      "CPU times: user 7.21 s, sys: 579 ms, total: 7.79 s\n",
      "Wall time: 12min 39s\n"
     ]
    }
   ],
   "source": [
    "%%time\n",
    "# the line above prints the computation time after the estimation has finished\n",
    "steps = 20 # the initial number of periods under which the model should converge\n",
    "sample_size = 2 # the number of Monte Carlo simulations\n",
    "dev_lim = 5 # the convergence error threshold\n",
    "parallel_processes = 4 # the number of processes to be run in parallel\n",
    "\n",
    "rec_alphas, rec_volas, rec_steps = cal.find_steps(I0, T, A=A, R=R, phi=phi, tau=tau, \n",
    "                                       vola_emp=vola_emp, steps=steps, sample_size=sample_size, \n",
    "                                       dev_lim=dev_lim, parallel_processes=parallel_processes)"
   ]
  },
  {
   "cell_type": "markdown",
   "metadata": {},
   "source": [
    "## Plot convergence levels"
   ]
  },
  {
   "cell_type": "code",
   "execution_count": 6,
   "metadata": {},
   "outputs": [
    {
     "data": {
      "image/png": "[encoded data removed]",
      "text/plain": [
       "<Figure size 432x288 with 1 Axes>"
      ]
     },
     "metadata": {},
     "output_type": "display_data"
    }
   ],
   "source": [
    "plt.plot(rec_steps, [vola_emp for step in rec_steps], '--k', linewidth=2)\n",
    "plt.plot(rec_steps, rec_volas, '.k', markersize=15, mec='w',)\n",
    "plt.xlabel('periods for convergence', fontsize=14)\n",
    "plt.ylabel('volatility', fontsize=14)\n",
    "plt.legend(['empirical', 'simulated'], fontsize=12)\n",
    "\n",
    "plt.tight_layout()\n",
    "plt.show()"
   ]
  },
  {
   "cell_type": "markdown",
   "metadata": {},
   "source": [
    "## Choose 'steps' and growth factors\n",
    "\n",
    "Once a collection of 'steps' and growth factors has been obtained, the next step is to choose the ones that match the empirical volatility. Once this the best 'steps' has been chosen, it is recommended that the estimation procedure is repeated for the neighborhood of 'steps', but which a stricter error threshold and more Monte Carlo simulations. This example shows how to choose the best 'steps' and plot its corresponding estimated growth factors. "
   ]
  },
  {
   "cell_type": "code",
   "execution_count": 7,
   "metadata": {},
   "outputs": [
    {
     "data": {
      "image/png": "[encoded data removed]",
      "text/plain": [
       "<Figure size 432x288 with 1 Axes>"
      ]
     },
     "metadata": {},
     "output_type": "display_data"
    },
    {
     "name": "stdout",
     "output_type": "stream",
     "text": [
      "Calibrated 'steps':  32\n"
     ]
    }
   ],
   "source": [
    "alphas_rep = np.loadtxt('alphas.csv') # growth factors\n",
    "\n",
    "arg_min = np.argmin(np.abs(np.array(rec_volas)-vola_emp))\n",
    "best_alphas = rec_alphas[arg_min]\n",
    "best_steps = rec_steps[arg_min]\n",
    "\n",
    "for i in range(len(A)):\n",
    "    plt.plot(alphas_rep[i], best_alphas[i], '.', mfc=colors[i], mec='white', markersize=14)\n",
    "plt.xticks([])\n",
    "plt.xlabel('growth factor from report', fontsize=14)\n",
    "plt.ylabel('estimated growth factor', fontsize=14)\n",
    "\n",
    "plt.tight_layout()\n",
    "plt.show()\n",
    "print(\"Calibrated 'steps': \", best_steps)"
   ]
  },
  {
   "cell_type": "code",
   "execution_count": null,
   "metadata": {},
   "outputs": [],
   "source": []
  }
 ],
 "metadata": {
  "kernelspec": {
   "display_name": "Python 3",
   "language": "python",
   "name": "python3"
  },
  "language_info": {
   "codemirror_mode": {
    "name": "ipython",
    "version": 3
   },
   "file_extension": ".py",
   "mimetype": "text/x-python",
   "name": "python",
   "nbconvert_exporter": "python",
   "pygments_lexer": "ipython3",
   "version": "3.6.8"
  }
 },
 "nbformat": 4,
 "nbformat_minor": 2
}
